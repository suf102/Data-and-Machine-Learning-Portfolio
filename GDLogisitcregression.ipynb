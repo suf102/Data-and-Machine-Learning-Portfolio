{
 "cells": [
  {
   "cell_type": "code",
   "execution_count": 1,
   "metadata": {},
   "outputs": [],
   "source": [
    "import numpy as np\n",
    "import matplotlib.pyplot as plt"
   ]
  },
  {
   "cell_type": "markdown",
   "metadata": {},
   "source": [
    "Starting with some synthetic data to perform the logistic regression,"
   ]
  },
  {
   "cell_type": "code",
   "execution_count": 2,
   "metadata": {},
   "outputs": [],
   "source": [
    "# First the random seed to make results replaceable. \n",
    "\n",
    "np.random.seed(12)\n",
    "\n",
    "# The number of data points that we are working with. \n",
    "\n",
    "num_samples = 100\n",
    "\n",
    "# Starting with the labels. \n",
    "\n",
    "y = np.append(np.zeros(num_samples//2),np.ones(num_samples//2))\n",
    "\n",
    "# The rough scale of the data\n",
    "\n",
    "center_of_type_0 = -0.5\n",
    "\n",
    "center_of_type_1 = 0.5\n",
    "\n",
    "level_of_noise = 0.2\n",
    "\n",
    "#first the data that will be labeled with 0 \n",
    "\n",
    "x_1 = (np.random.randn(num_samples//2)*level_of_noise + center_of_type_0)\n",
    "\n",
    "#then the data that will be labeled with 1 \n",
    "\n",
    "x_2 = (np.random.randn(num_samples//2)*level_of_noise + center_of_type_1)\n",
    "\n",
    "\n",
    "x = np.append(x_1,x_2)\n",
    "\n"
   ]
  },
  {
   "cell_type": "markdown",
   "metadata": {},
   "source": [
    "Visualizing the data"
   ]
  },
  {
   "cell_type": "code",
   "execution_count": 3,
   "metadata": {},
   "outputs": [
    {
     "data": {
      "text/plain": [
       "<function matplotlib.pyplot.show(close=None, block=None)>"
      ]
     },
     "execution_count": 3,
     "metadata": {},
     "output_type": "execute_result"
    },
    {
     "data": {
      "image/png": "[encoded data removed]",
      "text/plain": [
       "<Figure size 640x480 with 1 Axes>"
      ]
     },
     "metadata": {},
     "output_type": "display_data"
    }
   ],
   "source": [
    "plt.scatter(x,y)\n",
    "plt.show"
   ]
  },
  {
   "cell_type": "markdown",
   "metadata": {},
   "source": [
    "Defining the sigmoid function that would make the predictions."
   ]
  },
  {
   "cell_type": "code",
   "execution_count": 4,
   "metadata": {},
   "outputs": [],
   "source": [
    "def sigmoid(X, weights, centerpoint):\n",
    "    z = np.dot(X,weights)\n",
    "    return 1/(1+np.exp(-(z-centerpoint)))"
   ]
  },
  {
   "cell_type": "markdown",
   "metadata": {},
   "source": [
    "The loss function is defined in terms of the deviation between the actual labels and the predicted labels. "
   ]
  },
  {
   "cell_type": "code",
   "execution_count": 5,
   "metadata": {},
   "outputs": [],
   "source": [
    "def loss(y_hat,y):\n",
    "    return (-y * np.log(y_hat) - (1-y) * np.log(1-y_hat)).mean()\n",
    "    "
   ]
  },
  {
   "cell_type": "markdown",
   "metadata": {},
   "source": [
    "The derivative function of the loss function to find the gradient vector with respect to the weights."
   ]
  },
  {
   "cell_type": "code",
   "execution_count": 6,
   "metadata": {},
   "outputs": [],
   "source": [
    "def gradient_vector(X, Y_hat , Y):\n",
    "    return np.dot(X.T , (Y_hat - Y)/y.shape[0])\n",
    "\n"
   ]
  },
  {
   "cell_type": "markdown",
   "metadata": {},
   "source": [
    "Lastly a function for updating the weights of the sigmoid function"
   ]
  },
  {
   "cell_type": "code",
   "execution_count": 7,
   "metadata": {},
   "outputs": [],
   "source": [
    "def update_weights(weights, lr, gradient):\n",
    "    return weights - lr * gradient"
   ]
  },
  {
   "cell_type": "code",
   "execution_count": 8,
   "metadata": {},
   "outputs": [],
   "source": [
    "def update_centerpoint(centerpoint, lr, gradient):\n",
    "    return centerpoint - lr * gradient"
   ]
  },
  {
   "cell_type": "markdown",
   "metadata": {},
   "source": [
    "Making an estimation of the starting point for the sigmoid function."
   ]
  },
  {
   "cell_type": "code",
   "execution_count": 9,
   "metadata": {},
   "outputs": [],
   "source": [
    "def estimated_weights(X):\n",
    "    return x.mean()"
   ]
  },
  {
   "cell_type": "code",
   "execution_count": 10,
   "metadata": {},
   "outputs": [],
   "source": [
    "def runtheregression(X,Y,lr,epochs):\n",
    "# Starting guess for the weights\n",
    "    centerpoint = 0\n",
    "    estimates = estimated_weights(X)\n",
    "    weights = estimates\n",
    "    losses = []\n",
    "    for i in range(epochs):\n",
    "# The forward pass \n",
    "        y_hat = sigmoid(X,weights,centerpoint)\n",
    "# Loss calculation and display \n",
    "        if i % 10 == 0:\n",
    "            loss_1 = loss(y_hat,Y)\n",
    "            losses.append(loss_1)\n",
    "# Optimizer \n",
    "        gradient = gradient_vector(X,y_hat, Y)\n",
    "# Updating\n",
    "        weights = update_weights(weights, lr , gradient)\n",
    "    return weights, losses"
   ]
  },
  {
   "cell_type": "code",
   "execution_count": 11,
   "metadata": {},
   "outputs": [
    {
     "data": {
      "text/plain": [
       "<function matplotlib.pyplot.show(close=None, block=None)>"
      ]
     },
     "execution_count": 11,
     "metadata": {},
     "output_type": "execute_result"
    },
    {
     "data": {
      "image/png": "[encoded data removed]",
      "text/plain": [
       "<Figure size 640x480 with 1 Axes>"
      ]
     },
     "metadata": {},
     "output_type": "display_data"
    }
   ],
   "source": [
    "results = runtheregression(x,y,0.1,10000)\n",
    "final_weights = results[0]\n",
    "final_losses = results[1]\n",
    "\n",
    "plt.scatter(x,y)\n",
    "plt.plot(np.sort(x), sigmoid(np.sort(x),final_weights,0), '-r')\n",
    "plt.show\n"
   ]
  },
  {
   "cell_type": "code",
   "execution_count": 12,
   "metadata": {},
   "outputs": [
    {
     "data": {
      "text/plain": [
       "<function matplotlib.pyplot.show(close=None, block=None)>"
      ]
     },
     "execution_count": 12,
     "metadata": {},
     "output_type": "execute_result"
    },
    {
     "data": {
      "image/png": "[encoded data removed]",
      "text/plain": [
       "<Figure size 640x480 with 1 Axes>"
      ]
     },
     "metadata": {},
     "output_type": "display_data"
    }
   ],
   "source": [
    "plt.plot(final_losses)\n",
    "plt.show"
   ]
  }
 ],
 "metadata": {
  "kernelspec": {
   "display_name": "Python 3.9.15 ('base')",
   "language": "python",
   "name": "python3"
  },
  "language_info": {
   "codemirror_mode": {
    "name": "ipython",
    "version": 3
   },
   "file_extension": ".py",
   "mimetype": "text/x-python",
   "name": "python",
   "nbconvert_exporter": "python",
   "pygments_lexer": "ipython3",
   "version": "3.9.15"
  },
  "orig_nbformat": 4,
  "vscode": {
   "interpreter": {
    "hash": "40d3a090f54c6569ab1632332b64b2c03c39dcf918b08424e98f38b5ae0af88f"
   }
  }
 },
 "nbformat": 4,
 "nbformat_minor": 2
}
