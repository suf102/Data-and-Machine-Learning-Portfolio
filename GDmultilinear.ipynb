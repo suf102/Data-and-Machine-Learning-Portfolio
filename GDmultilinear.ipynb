{
 "cells": [
  {
   "cell_type": "code",
   "execution_count": 141,
   "metadata": {},
   "outputs": [],
   "source": [
    "import numpy as np\n",
    "import matplotlib.pyplot as plt\n",
    "import random "
   ]
  },
  {
   "cell_type": "markdown",
   "metadata": {},
   "source": [
    "Starting with some synthetic data to fit our regression. "
   ]
  },
  {
   "cell_type": "code",
   "execution_count": 142,
   "metadata": {},
   "outputs": [],
   "source": [
    "# start with a random seed so that we can go back to this data again. \n",
    "np.random.seed(7)\n",
    "# The real equation of the line that we will be working with.\n",
    "number_of_variables = 5\n",
    "# Number of data points\n",
    "number_of_data_points = 100\n",
    "# Lets generate some random weights for the functions, we will use the normalized random function.\n",
    "weights = np.random.randn(number_of_variables)\n",
    "# bias figure \n",
    "c = random.random()\n",
    "# The x labels of the data which be be evenly distributed across the interval [0,100] and data that is transformed by our desired linear function, with some random noise added.\n",
    "x = np.random.rand(number_of_data_points,number_of_variables)\n",
    "y = x.dot(weights) + c + np.random.randn(len(x))*(0.03)\n"
   ]
  },
  {
   "cell_type": "markdown",
   "metadata": {},
   "source": [
    "This is the loss function, in this case it is a mean squared function that tells us how badly our regression function is doing  by computing the square of the distance between the prediction and the actual data. "
   ]
  },
  {
   "cell_type": "code",
   "execution_count": 143,
   "metadata": {},
   "outputs": [],
   "source": [
    "def loss( x_values, y_values, gradient, bias):\n",
    "    return (np.sum((x.dot(gradient) + bias - y)**2)/len(x_values))"
   ]
  },
  {
   "cell_type": "markdown",
   "metadata": {},
   "source": [
    "Now we need to step the weights, this is done by differentiating with respect to the weights, then stepping them in the negative direction by the learning rates times the gradient. In this case I have manually performed the differentiation, as the model gets more complex a gradient vector would need to be calculated by some autodiff algorithm.\n"
   ]
  },
  {
   "cell_type": "code",
   "execution_count": 144,
   "metadata": {},
   "outputs": [],
   "source": [
    "def optimizer(m_start,c_start, learning_rate, x_values, y_values):\n",
    "    y_hat = x_values.dot(m_start)+ c_start\n",
    "    losses = y_hat - y\n",
    "    n = len(y_values)\n",
    "    m_grad = (x_values.T.dot(losses)/n)\n",
    "    c_grad = (sum(losses)/n)\n",
    "    m_new = m_start - (learning_rate * m_grad)\n",
    "    c_new = c_start - (learning_rate * c_grad)\n",
    "    return m_new, c_new "
   ]
  },
  {
   "cell_type": "markdown",
   "metadata": {},
   "source": [
    "Now a function that will run the decent a number of times, we might want to specify this in one of two ways, the first is where we stop seeing improvements, or a set number of iterations. In this case I will use a set number of iterations,"
   ]
  },
  {
   "cell_type": "code",
   "execution_count": 145,
   "metadata": {},
   "outputs": [],
   "source": [
    "def gradient_decent_runner(m_start_guess, c_start_guess, x_values, y_values ,learning_rate, iterations):\n",
    "    losses = []\n",
    "    m_final = np.zeros(number_of_variables)\n",
    "    c_final = 0\n",
    "    for i in range(iterations):\n",
    "        m_final, c_final  = optimizer(m_final,c_final,learning_rate,x_values,y_values ) \n",
    "        if i % 10 == 0 :\n",
    "            losses.append(loss(x_values, y_values, m_final, c_final))\n",
    "    return m_final , c_final, losses\n",
    "    "
   ]
  },
  {
   "cell_type": "markdown",
   "metadata": {},
   "source": [
    "One will note here that the learning rate is very small, that is because the gradients are so high. When the learning rate is higher the algorithm begins to overshoot the optimization massively. The consequence of this is that we need a lot more iterations of the optimzer to be run in order to achieve the desired results. The number of iterations needed is so high that to stop too much memory being used the loss values are only be recorded every 10 iterations. There is not much to visualise here because we are using 5 inputs, and the weights are already normalised because the weigts are drawn from a normal distribution therefore almost any lr works."
   ]
  },
  {
   "cell_type": "code",
   "execution_count": 148,
   "metadata": {},
   "outputs": [
    {
     "name": "stdout",
     "output_type": "stream",
     "text": [
      "[ 1.69772848 -0.46736992  0.02618872  0.38907644 -0.78804855]\n",
      "0.3228545443921943\n",
      "[ 1.6905257  -0.46593737  0.03282016  0.40751628 -0.78892303]\n",
      "0.3181525967175628\n",
      "The regression algorithm found weights that were 0.039283031300166416 far from the original weights\n"
     ]
    }
   ],
   "source": [
    "m_finalfinal, c_finalfinal, loss_final = gradient_decent_runner(0, 0, x,y,0.001,1000000)\n",
    "\n",
    "print(m_finalfinal)\n",
    "print(c_finalfinal)\n",
    "\n",
    "print(weights)\n",
    "print(c)\n",
    "\n",
    "\n",
    "final_noise = abs(np.sum(np.sqrt((m_finalfinal-weights)**2))+abs(c-c_finalfinal))\n",
    "print(f\"The regression algorithm found weights that were {final_noise} far from the original weights\")"
   ]
  },
  {
   "cell_type": "markdown",
   "metadata": {},
   "source": [
    "A plot of the final losses to show how they decrease over time. "
   ]
  },
  {
   "cell_type": "code",
   "execution_count": 147,
   "metadata": {},
   "outputs": [
    {
     "data": {
      "text/plain": [
       "<function matplotlib.pyplot.show(close=None, block=None)>"
      ]
     },
     "execution_count": 147,
     "metadata": {},
     "output_type": "execute_result"
    },
    {
     "data": {
      "image/png": "[encoded data removed]",
      "text/plain": [
       "<Figure size 640x480 with 1 Axes>"
      ]
     },
     "metadata": {},
     "output_type": "display_data"
    }
   ],
   "source": [
    "plt.plot(loss_final)\n",
    "plt.show"
   ]
  }
 ],
 "metadata": {
  "kernelspec": {
   "display_name": "Python 3.9.15 ('base')",
   "language": "python",
   "name": "python3"
  },
  "language_info": {
   "codemirror_mode": {
    "name": "ipython",
    "version": 3
   },
   "file_extension": ".py",
   "mimetype": "text/x-python",
   "name": "python",
   "nbconvert_exporter": "python",
   "pygments_lexer": "ipython3",
   "version": "3.9.15"
  },
  "orig_nbformat": 4,
  "vscode": {
   "interpreter": {
    "hash": "40d3a090f54c6569ab1632332b64b2c03c39dcf918b08424e98f38b5ae0af88f"
   }
  }
 },
 "nbformat": 4,
 "nbformat_minor": 2
}
