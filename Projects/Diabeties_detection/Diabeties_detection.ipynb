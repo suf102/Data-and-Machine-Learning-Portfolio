{
 "cells": [
  {
   "cell_type": "markdown",
   "metadata": {},
   "source": [
    "# Diabeties Prediction Models\n",
    "\n",
    "In this notebook I  put together four diabeties detection algorithm, the first is a logistic regression, the second a decision tree, third a deep learning model and lastly a random forest model. The dataset can be found here (https://www.kaggle.com/datasets/iammustafatz/diabetes-prediction-dataset)"
   ]
  },
  {
   "cell_type": "markdown",
   "metadata": {},
   "source": [
    "## Dependencies  "
   ]
  },
  {
   "cell_type": "code",
   "execution_count": 39,
   "metadata": {},
   "outputs": [],
   "source": [
    "# Data handling\n",
    "import pandas as pd \n",
    "# Linear algebra\n",
    "import numpy as np\n",
    "# Plots\n",
    "import matplotlib.pyplot as plt \n",
    "import seaborn as sns\n",
    "# Statistics\n",
    "from scipy import stats\n",
    "# Data preprocessing\n",
    "from sklearn import preprocessing, svm \n",
    "from sklearn.preprocessing import MinMaxScaler\n",
    "from sklearn.model_selection import train_test_split\n",
    "# Models\n",
    "from sklearn.linear_model import LogisticRegression\n",
    "from sklearn.tree import DecisionTreeClassifier\n",
    "import torch\n",
    "from sklearn.ensemble import RandomForestClassifier \n",
    "# Evaluation \n",
    "from sklearn import metrics \n",
    "from sklearn.linear_model import LogisticRegression\n",
    "from sklearn.metrics import confusion_matrix\n",
    "from sklearn.metrics import classification_report\n",
    "from collections import Counter"
   ]
  },
  {
   "cell_type": "markdown",
   "metadata": {},
   "source": [
    "## Bringing in the data"
   ]
  },
  {
   "cell_type": "code",
   "execution_count": 40,
   "metadata": {},
   "outputs": [],
   "source": [
    "# Bringing the data into pandas so we can begin our analysis.\n",
    "\n",
    "df = pd.read_csv('diabetes_prediction_dataset.csv')"
   ]
  },
  {
   "cell_type": "code",
   "execution_count": 41,
   "metadata": {},
   "outputs": [
    {
     "data": {
      "text/html": [
       "<div>\n",
       "<style scoped>\n",
       "    .dataframe tbody tr th:only-of-type {\n",
       "        vertical-align: middle;\n",
       "    }\n",
       "\n",
       "    .dataframe tbody tr th {\n",
       "        vertical-align: top;\n",
       "    }\n",
       "\n",
       "    .dataframe thead th {\n",
       "        text-align: right;\n",
       "    }\n",
       "</style>\n",
       "<table border=\"1\" class=\"dataframe\">\n",
       "  <thead>\n",
       "    <tr style=\"text-align: right;\">\n",
       "      <th></th>\n",
       "      <th>gender</th>\n",
       "      <th>age</th>\n",
       "      <th>hypertension</th>\n",
       "      <th>heart_disease</th>\n",
       "      <th>smoking_history</th>\n",
       "      <th>bmi</th>\n",
       "      <th>HbA1c_level</th>\n",
       "      <th>blood_glucose_level</th>\n",
       "      <th>diabetes</th>\n",
       "    </tr>\n",
       "  </thead>\n",
       "  <tbody>\n",
       "    <tr>\n",
       "      <th>0</th>\n",
       "      <td>Female</td>\n",
       "      <td>80.0</td>\n",
       "      <td>0</td>\n",
       "      <td>1</td>\n",
       "      <td>never</td>\n",
       "      <td>25.19</td>\n",
       "      <td>6.6</td>\n",
       "      <td>140</td>\n",
       "      <td>0</td>\n",
       "    </tr>\n",
       "    <tr>\n",
       "      <th>1</th>\n",
       "      <td>Female</td>\n",
       "      <td>54.0</td>\n",
       "      <td>0</td>\n",
       "      <td>0</td>\n",
       "      <td>No Info</td>\n",
       "      <td>27.32</td>\n",
       "      <td>6.6</td>\n",
       "      <td>80</td>\n",
       "      <td>0</td>\n",
       "    </tr>\n",
       "    <tr>\n",
       "      <th>2</th>\n",
       "      <td>Male</td>\n",
       "      <td>28.0</td>\n",
       "      <td>0</td>\n",
       "      <td>0</td>\n",
       "      <td>never</td>\n",
       "      <td>27.32</td>\n",
       "      <td>5.7</td>\n",
       "      <td>158</td>\n",
       "      <td>0</td>\n",
       "    </tr>\n",
       "    <tr>\n",
       "      <th>3</th>\n",
       "      <td>Female</td>\n",
       "      <td>36.0</td>\n",
       "      <td>0</td>\n",
       "      <td>0</td>\n",
       "      <td>current</td>\n",
       "      <td>23.45</td>\n",
       "      <td>5.0</td>\n",
       "      <td>155</td>\n",
       "      <td>0</td>\n",
       "    </tr>\n",
       "    <tr>\n",
       "      <th>4</th>\n",
       "      <td>Male</td>\n",
       "      <td>76.0</td>\n",
       "      <td>1</td>\n",
       "      <td>1</td>\n",
       "      <td>current</td>\n",
       "      <td>20.14</td>\n",
       "      <td>4.8</td>\n",
       "      <td>155</td>\n",
       "      <td>0</td>\n",
       "    </tr>\n",
       "  </tbody>\n",
       "</table>\n",
       "</div>"
      ],
      "text/plain": [
       "   gender   age  hypertension  heart_disease smoking_history    bmi  \\\n",
       "0  Female  80.0             0              1           never  25.19   \n",
       "1  Female  54.0             0              0         No Info  27.32   \n",
       "2    Male  28.0             0              0           never  27.32   \n",
       "3  Female  36.0             0              0         current  23.45   \n",
       "4    Male  76.0             1              1         current  20.14   \n",
       "\n",
       "   HbA1c_level  blood_glucose_level  diabetes  \n",
       "0          6.6                  140         0  \n",
       "1          6.6                   80         0  \n",
       "2          5.7                  158         0  \n",
       "3          5.0                  155         0  \n",
       "4          4.8                  155         0  "
      ]
     },
     "execution_count": 41,
     "metadata": {},
     "output_type": "execute_result"
    }
   ],
   "source": [
    "df.head()"
   ]
  },
  {
   "cell_type": "markdown",
   "metadata": {},
   "source": [
    "As we can see there is this anonymized data that includes the 28 felids that represent some data about the transactions, an amount and a classification of fraud or not fraud. "
   ]
  },
  {
   "cell_type": "code",
   "execution_count": 42,
   "metadata": {},
   "outputs": [
    {
     "name": "stdout",
     "output_type": "stream",
     "text": [
      "<class 'pandas.core.frame.DataFrame'>\n",
      "RangeIndex: 100000 entries, 0 to 99999\n",
      "Data columns (total 9 columns):\n",
      " #   Column               Non-Null Count   Dtype  \n",
      "---  ------               --------------   -----  \n",
      " 0   gender               100000 non-null  object \n",
      " 1   age                  100000 non-null  float64\n",
      " 2   hypertension         100000 non-null  int64  \n",
      " 3   heart_disease        100000 non-null  int64  \n",
      " 4   smoking_history      100000 non-null  object \n",
      " 5   bmi                  100000 non-null  float64\n",
      " 6   HbA1c_level          100000 non-null  float64\n",
      " 7   blood_glucose_level  100000 non-null  int64  \n",
      " 8   diabetes             100000 non-null  int64  \n",
      "dtypes: float64(3), int64(4), object(2)\n",
      "memory usage: 6.9+ MB\n"
     ]
    }
   ],
   "source": [
    "# To see the datatypes of our dataframe.\n",
    "\n",
    "df.info()"
   ]
  },
  {
   "cell_type": "markdown",
   "metadata": {},
   "source": [
    "## Visualization"
   ]
  },
  {
   "cell_type": "markdown",
   "metadata": {},
   "source": [
    "The next stage is some data visualization, here I will go ahead and plot some of our data categories against our target variable which is diabetes. First the numerical features."
   ]
  },
  {
   "cell_type": "code",
   "execution_count": 43,
   "metadata": {},
   "outputs": [
    {
     "data": {
      "text/plain": [
       "Text(0.5, 1.0, 'Age vs Diabetes')"
      ]
     },
     "execution_count": 43,
     "metadata": {},
     "output_type": "execute_result"
    },
    {
     "data": {
      "image/png": "[encoded data removed]",
      "text/plain": [
       "<Figure size 432x288 with 1 Axes>"
      ]
     },
     "metadata": {
      "needs_background": "light"
     },
     "output_type": "display_data"
    }
   ],
   "source": [
    "ax = sns.boxplot(data = df , x= 'diabetes', y = 'age')\n",
    "plt.title('Age vs Diabetes')"
   ]
  },
  {
   "cell_type": "code",
   "execution_count": 44,
   "metadata": {},
   "outputs": [
    {
     "data": {
      "text/plain": [
       "Text(0.5, 1.0, 'Bmi vs Diabetes')"
      ]
     },
     "execution_count": 44,
     "metadata": {},
     "output_type": "execute_result"
    },
    {
     "data": {
      "image/png": "[encoded data removed]",
      "text/plain": [
       "<Figure size 432x288 with 1 Axes>"
      ]
     },
     "metadata": {
      "needs_background": "light"
     },
     "output_type": "display_data"
    }
   ],
   "source": [
    "ax = sns.boxplot(data = df , x= 'diabetes', y = 'bmi')\n",
    "plt.title('Bmi vs Diabetes')"
   ]
  },
  {
   "cell_type": "code",
   "execution_count": 45,
   "metadata": {},
   "outputs": [
    {
     "data": {
      "text/plain": [
       "Text(0.5, 1.0, 'HbA1c_level vs Diabetes')"
      ]
     },
     "execution_count": 45,
     "metadata": {},
     "output_type": "execute_result"
    },
    {
     "data": {
      "image/png": "[encoded data removed]",
      "text/plain": [
       "<Figure size 432x288 with 1 Axes>"
      ]
     },
     "metadata": {
      "needs_background": "light"
     },
     "output_type": "display_data"
    }
   ],
   "source": [
    "ax = sns.boxplot(data = df , x= 'diabetes', y = 'HbA1c_level')\n",
    "plt.title('HbA1c_level vs Diabetes')"
   ]
  },
  {
   "cell_type": "code",
   "execution_count": 46,
   "metadata": {},
   "outputs": [
    {
     "data": {
      "image/png": "[encoded data removed]",
      "text/plain": [
       "<Figure size 432x288 with 1 Axes>"
      ]
     },
     "metadata": {
      "needs_background": "light"
     },
     "output_type": "display_data"
    }
   ],
   "source": [
    "ax = sns.boxplot(data = df , x= 'diabetes', y = 'blood_glucose_level')"
   ]
  },
  {
   "cell_type": "code",
   "execution_count": 47,
   "metadata": {},
   "outputs": [
    {
     "data": {
      "image/png": "[encoded data removed]",
      "text/plain": [
       "<Figure size 432x288 with 1 Axes>"
      ]
     },
     "metadata": {
      "needs_background": "light"
     },
     "output_type": "display_data"
    }
   ],
   "source": [
    "crosstb = pd.crosstab(df.gender, df.diabetes)\n",
    "barplot = crosstb.plot.bar(rot=0)"
   ]
  },
  {
   "cell_type": "code",
   "execution_count": 48,
   "metadata": {},
   "outputs": [
    {
     "data": {
      "image/png": "[encoded data removed]",
      "text/plain": [
       "<Figure size 432x288 with 1 Axes>"
      ]
     },
     "metadata": {
      "needs_background": "light"
     },
     "output_type": "display_data"
    }
   ],
   "source": [
    "crosstb = pd.crosstab(df.hypertension, df.diabetes)\n",
    "barplot = crosstb.plot.bar(rot=0)"
   ]
  },
  {
   "cell_type": "code",
   "execution_count": 49,
   "metadata": {},
   "outputs": [
    {
     "data": {
      "image/png": "[encoded data removed]",
      "text/plain": [
       "<Figure size 432x288 with 1 Axes>"
      ]
     },
     "metadata": {
      "needs_background": "light"
     },
     "output_type": "display_data"
    }
   ],
   "source": [
    "crosstb = pd.crosstab(df.smoking_history, df.diabetes)\n",
    "barplot = crosstb.plot.bar(rot=0)"
   ]
  },
  {
   "cell_type": "markdown",
   "metadata": {},
   "source": [
    "## Processing the data for analysis"
   ]
  },
  {
   "cell_type": "markdown",
   "metadata": {},
   "source": [
    "As we can see it is mix of categorical data and numeric data, with a classification column at the end. The first process will be turning this data into numeric data where it has not already been transformed. In particular the smoking status and the gender catagories. Starting with the more complicated smoking category."
   ]
  },
  {
   "cell_type": "code",
   "execution_count": 50,
   "metadata": {},
   "outputs": [
    {
     "data": {
      "text/plain": [
       "No Info        35816\n",
       "never          35095\n",
       "former          9352\n",
       "current         9286\n",
       "not current     6447\n",
       "ever            4004\n",
       "Name: smoking_history, dtype: int64"
      ]
     },
     "execution_count": 50,
     "metadata": {},
     "output_type": "execute_result"
    }
   ],
   "source": [
    "# The next thing that we need to do is transform the Smoking history column. First lets see what is in that column.\n",
    "\n",
    "df.smoking_history.value_counts()"
   ]
  },
  {
   "cell_type": "markdown",
   "metadata": {},
   "source": [
    "There are 6 Catagories of smoker here, including one where there is no information, but also the 'ever' category, which I would suspect is a typo and needs to be corrected to 'never'. we also need to combine the former and not current categories which we will do in a similar manor. "
   ]
  },
  {
   "cell_type": "code",
   "execution_count": 51,
   "metadata": {},
   "outputs": [],
   "source": [
    "df['smoking_history'] = df['smoking_history'].apply(lambda x: 'never' if x == 'ever' else x)\n",
    "df['smoking_history'] = df['smoking_history'].apply(lambda x: 'former' if x == 'not current' else x)\n"
   ]
  },
  {
   "cell_type": "markdown",
   "metadata": {},
   "source": [
    "As we can see in the next cell the ever category is no longer present. "
   ]
  },
  {
   "cell_type": "code",
   "execution_count": 52,
   "metadata": {},
   "outputs": [
    {
     "data": {
      "text/plain": [
       "never      39099\n",
       "No Info    35816\n",
       "former     15799\n",
       "current     9286\n",
       "Name: smoking_history, dtype: int64"
      ]
     },
     "execution_count": 52,
     "metadata": {},
     "output_type": "execute_result"
    }
   ],
   "source": [
    "df.smoking_history.value_counts()"
   ]
  },
  {
   "cell_type": "markdown",
   "metadata": {},
   "source": [
    "Now something has to be done about the 'No info' category. my current inclination is to assign it an interpolated value that would be the same as former smoker in this instance."
   ]
  },
  {
   "cell_type": "code",
   "execution_count": 53,
   "metadata": {},
   "outputs": [],
   "source": [
    "df['smoking_history'] = df['smoking_history'].apply(lambda x: 'former' if x == 'No Info' else x)\n"
   ]
  },
  {
   "cell_type": "code",
   "execution_count": 54,
   "metadata": {},
   "outputs": [
    {
     "data": {
      "image/png": "[encoded data removed]",
      "text/plain": [
       "<Figure size 432x288 with 1 Axes>"
      ]
     },
     "metadata": {
      "needs_background": "light"
     },
     "output_type": "display_data"
    }
   ],
   "source": [
    "df.smoking_history.value_counts()\n",
    "crosstb = pd.crosstab(df.smoking_history, df.diabetes)\n",
    "barplot = crosstb.plot.bar(rot=0)"
   ]
  },
  {
   "cell_type": "markdown",
   "metadata": {},
   "source": [
    "Now this information needs to be transformed into numerically represented categorical data, there are multiple ways that I could do this, the first would be to assign a value of 0.5 to previous smokers and no info, 1 to current smokers and 0 to never smoked. I am making the assumption here that being a former smoker will increase the chances of having diabetes more than never having smoked all together. I will go with this approach because the other solution to have 'smoked in the past' and 'smoked currently' would have some coliniarity and may hurt the accuracy of the regression models. Notably though, assigning former to 0.5 is a non linear transformation, we don't know that the effect is 50% of the currently smoking effect, for that reason it will hurt non linear models. "
   ]
  },
  {
   "cell_type": "code",
   "execution_count": 55,
   "metadata": {},
   "outputs": [],
   "source": [
    "df['smoking_history'] = df['smoking_history'].apply(lambda x: 0 if x == 'never' else x)\n",
    "df['smoking_history'] = df['smoking_history'].apply(lambda x: 0.5 if x == 'former' else x)\n",
    "df['smoking_history'] = df['smoking_history'].apply(lambda x: 1 if x == 'current' else x)"
   ]
  },
  {
   "cell_type": "markdown",
   "metadata": {},
   "source": [
    "The next column that I need to change to categorical is the 'Gender' category, as such I will be assigning '1' to female and '0' to male.\n",
    "\n",
    "\n"
   ]
  },
  {
   "cell_type": "code",
   "execution_count": 56,
   "metadata": {},
   "outputs": [
    {
     "data": {
      "text/plain": [
       "Female    58552\n",
       "Male      41430\n",
       "Other        18\n",
       "Name: gender, dtype: int64"
      ]
     },
     "execution_count": 56,
     "metadata": {},
     "output_type": "execute_result"
    }
   ],
   "source": [
    "df.gender.value_counts()"
   ]
  },
  {
   "cell_type": "markdown",
   "metadata": {},
   "source": [
    "As we can see below there are 18 candidates who fall into the other category, given that the size of the dataset is 100000, it is ok to remove them from out analysis, not something that I could do with the not insignificant 'No info' category for smoking history. This does show that there is need for more anaysis of likelyhood of diabeties in people who do ot fall under 'male' or 'female' but remains outside the scope of this project. "
   ]
  },
  {
   "cell_type": "code",
   "execution_count": 57,
   "metadata": {},
   "outputs": [
    {
     "data": {
      "text/plain": [
       "1    58552\n",
       "0    41430\n",
       "Name: gender, dtype: int64"
      ]
     },
     "execution_count": 57,
     "metadata": {},
     "output_type": "execute_result"
    }
   ],
   "source": [
    "df = df[df.gender != 'Other']\n",
    "df['gender'] = df['gender'].apply(lambda x: 1 if x == 'Female' else 0)\n",
    "\n",
    "df.gender.value_counts()"
   ]
  },
  {
   "cell_type": "code",
   "execution_count": 58,
   "metadata": {},
   "outputs": [],
   "source": [
    "# Separating the feature set from the target variable\n",
    "\n",
    "feature_set = df.drop('diabetes', axis=1)\n",
    "target_set = df['diabetes']"
   ]
  },
  {
   "cell_type": "code",
   "execution_count": 59,
   "metadata": {},
   "outputs": [],
   "source": [
    "# To do our train test split of the data.\n",
    "\n",
    "X_train, X_test, y_train, y_test = train_test_split(feature_set, target_set, test_size= 0.20, random_state= 42)\n"
   ]
  },
  {
   "cell_type": "code",
   "execution_count": 60,
   "metadata": {},
   "outputs": [],
   "source": [
    "# This dictionary will be used later to label the confusion matrices\n",
    "\n",
    "class_names = {0:'Diabetes', 1:'Not_Diabetes'}"
   ]
  },
  {
   "cell_type": "markdown",
   "metadata": {},
   "source": [
    "## Logistic Regression"
   ]
  },
  {
   "cell_type": "code",
   "execution_count": 61,
   "metadata": {},
   "outputs": [
    {
     "data": {
      "text/plain": [
       "LogisticRegression(max_iter=1000)"
      ]
     },
     "execution_count": 61,
     "metadata": {},
     "output_type": "execute_result"
    }
   ],
   "source": [
    "# Notice here how I have increased the maximum number of iterations from the usual 100, given the number of features and the size of the dataset more than the standard is needed\n",
    "\n",
    "logistic_regression_model = LogisticRegression(max_iter=1000)\n",
    "\n",
    "logistic_regression_model.fit(X_train, y_train.values.ravel())"
   ]
  },
  {
   "cell_type": "code",
   "execution_count": 62,
   "metadata": {},
   "outputs": [],
   "source": [
    "# Running our test data through the model\n",
    "\n",
    "predictions = logistic_regression_model.predict(X_test)\n"
   ]
  },
  {
   "cell_type": "code",
   "execution_count": 63,
   "metadata": {},
   "outputs": [
    {
     "data": {
      "image/png": "[encoded data removed]",
      "text/plain": [
       "<Figure size 432x288 with 1 Axes>"
      ]
     },
     "metadata": {
      "needs_background": "light"
     },
     "output_type": "display_data"
    }
   ],
   "source": [
    "matrix = confusion_matrix(y_test, predictions)\n",
    "\n",
    "dataframe = pd.DataFrame(matrix, index=class_names, columns=class_names)\n",
    "\n",
    "sns.heatmap(dataframe, annot=True, cbar=None, cmap=\"Blues\", fmt = 'g')\n",
    "plt.title(\"Confusion Matrix\"), plt.tight_layout()\n",
    "plt.ylabel(\"True Class\"), plt.xlabel(\"Predicted Class\")\n",
    "plt.show()"
   ]
  },
  {
   "cell_type": "markdown",
   "metadata": {},
   "source": [
    "To evaluate the model above we are going to consider the precision and the recall. \n",
    "\n",
    "The precision is important because we want to know what our ratio of true positives are to total positives are. This tells use how often are we getting the wrong person. For fraud detection is is a measure of how much time the algorithm will waste by pursuing false positives. A number closer to one is better in this case. An algorithm that identifies everyone as fraudulent would catch every case of fraud but would be pointless. \n",
    "\n",
    "The recall is important because it tells us how many of the target category the model \"missed\". The ideal score is closer to 1. \n"
   ]
  },
  {
   "cell_type": "code",
   "execution_count": 64,
   "metadata": {},
   "outputs": [
    {
     "name": "stdout",
     "output_type": "stream",
     "text": [
      "              precision    recall  f1-score   support\n",
      "\n",
      "           0       0.97      0.99      0.98     18222\n",
      "           1       0.88      0.63      0.74      1775\n",
      "\n",
      "    accuracy                           0.96     19997\n",
      "   macro avg       0.92      0.81      0.86     19997\n",
      "weighted avg       0.96      0.96      0.96     19997\n",
      "\n"
     ]
    }
   ],
   "source": [
    "print(classification_report(y_test, predictions))"
   ]
  },
  {
   "cell_type": "markdown",
   "metadata": {},
   "source": [
    "## Decision Tree"
   ]
  },
  {
   "cell_type": "code",
   "execution_count": 65,
   "metadata": {},
   "outputs": [],
   "source": [
    "# Calling the decision tree classifier from SK learn \n",
    "\n",
    "clf = DecisionTreeClassifier()"
   ]
  },
  {
   "cell_type": "code",
   "execution_count": 66,
   "metadata": {},
   "outputs": [],
   "source": [
    "# Train Decision Tree Classifer\n",
    "clf = clf.fit(X_train,y_train)"
   ]
  },
  {
   "cell_type": "code",
   "execution_count": 67,
   "metadata": {},
   "outputs": [],
   "source": [
    "#Predict the response for test dataset\n",
    "y_pred = clf.predict(X_test)"
   ]
  },
  {
   "cell_type": "code",
   "execution_count": 68,
   "metadata": {},
   "outputs": [
    {
     "data": {
      "image/png": "[encoded data removed]",
      "text/plain": [
       "<Figure size 432x288 with 1 Axes>"
      ]
     },
     "metadata": {
      "needs_background": "light"
     },
     "output_type": "display_data"
    }
   ],
   "source": [
    "matrix = confusion_matrix(y_test, y_pred)\n",
    "\n",
    "dataframe = pd.DataFrame(matrix, index=class_names, columns=class_names)\n",
    "\n",
    "sns.heatmap(dataframe, annot=True, cbar=None, cmap=\"Blues\", fmt = 'g')\n",
    "plt.title(\"Confusion Matrix\"), plt.tight_layout()\n",
    "plt.ylabel(\"True Class\"), plt.xlabel(\"Predicted Class\")\n",
    "plt.show()"
   ]
  },
  {
   "cell_type": "code",
   "execution_count": 69,
   "metadata": {},
   "outputs": [
    {
     "name": "stdout",
     "output_type": "stream",
     "text": [
      "              precision    recall  f1-score   support\n",
      "\n",
      "           0       0.97      0.97      0.97     18222\n",
      "           1       0.73      0.74      0.74      1775\n",
      "\n",
      "    accuracy                           0.95     19997\n",
      "   macro avg       0.85      0.86      0.85     19997\n",
      "weighted avg       0.95      0.95      0.95     19997\n",
      "\n"
     ]
    }
   ],
   "source": [
    "print(metrics.classification_report(y_test, y_pred))"
   ]
  },
  {
   "cell_type": "markdown",
   "metadata": {},
   "source": [
    "As we can see the decision tree outperforms the logistic regression on the same data, on both precision and recall."
   ]
  },
  {
   "cell_type": "markdown",
   "metadata": {},
   "source": [
    "## Deep learning"
   ]
  },
  {
   "cell_type": "code",
   "execution_count": 70,
   "metadata": {},
   "outputs": [
    {
     "name": "stdout",
     "output_type": "stream",
     "text": [
      "Sampled train dataset shape Counter({0: 73260, 1: 6725})\n",
      "Sampled validation dataset shape Counter({0: 18222, 1: 1775})\n"
     ]
    }
   ],
   "source": [
    "# The first thing that we need to do is to scale the data so we don't end up with gradient explosion issues. \n",
    "\n",
    "\n",
    "# Original dataset\n",
    "x = feature_set.values\n",
    "y = target_set.values\n",
    "scaler = MinMaxScaler()\n",
    "scaler.fit(x)\n",
    "x = scaler.transform(x)\n",
    "X_train1, X_test1, y_train1, y_test1 = train_test_split(x, y, test_size=0.2, random_state=42)\n",
    "\n",
    "print('Sampled train dataset shape %s' % Counter(y_train1))\n",
    "print('Sampled validation dataset shape %s' % Counter(y_test1))"
   ]
  },
  {
   "cell_type": "code",
   "execution_count": 71,
   "metadata": {},
   "outputs": [],
   "source": [
    "# time to bring it into pytorch and the torch dataloaders\n",
    "batch_size = 512\n",
    "\n",
    "numeber_of_cores = 0\n",
    "\n",
    "training_dataset =  torch.utils.data.TensorDataset(torch.tensor(X_train1).float(), torch.tensor(y_train1).float())\n",
    "test_dataset =      torch.utils.data.TensorDataset(torch.tensor(X_test1).float(), torch.tensor(y_test1).float())\n",
    "\n",
    "train_dataloader = torch.utils.data.DataLoader(training_dataset,batch_size=batch_size, num_workers = numeber_of_cores)\n",
    "test_dataloader = torch.utils.data.DataLoader(test_dataset,batch_size=batch_size, num_workers = numeber_of_cores)"
   ]
  },
  {
   "cell_type": "code",
   "execution_count": 72,
   "metadata": {},
   "outputs": [],
   "source": [
    "# Creating the neural network class defining a two layer model that has ReLu layers between\n",
    "\n",
    "class Classifier(torch.nn.Module):\n",
    "    def __init__(self,n_input =10 , n_hidden = 15, n_output = 4, drop_prob = 0.5):\n",
    "        super().__init__()\n",
    "        # The first hidden layer\n",
    "        self.extractor1 = torch.nn.Linear(n_input, n_hidden)\n",
    "        # Second hidden layer\n",
    "        self.extractor2 = torch.nn.Linear(n_hidden, n_hidden)\n",
    "        # Third hidden layer\n",
    "        self.extractor3 = torch.nn.Linear(n_hidden, n_hidden)\n",
    "        # Relu non linear layer\n",
    "        self.relu = torch.nn.ReLU()\n",
    "        # A drop out for better learning\n",
    "        self.dropout = torch.nn.Dropout(drop_prob)\n",
    "        # The final layer that will pass out the classification\n",
    "        self.classifier = torch.nn.Linear(n_hidden,n_output)\n",
    "    # Forward pass of the data, taking it and   \n",
    "    def forward(self, x_batch):\n",
    "        x = self.relu(self.extractor1(x_batch))\n",
    "        x = self.relu(self.extractor2(x))\n",
    "        x = self.relu(self.extractor3(x))\n",
    "        x = self.dropout(x)\n",
    "        return self.classifier(x).squeeze()"
   ]
  },
  {
   "cell_type": "code",
   "execution_count": 73,
   "metadata": {},
   "outputs": [],
   "source": [
    "def loss(model, loss_function, x_batch , y_batch, opt = None):\n",
    "        # Using the loss function of choise to calculate the loss on each step\n",
    "    loss = loss_function(model(x_batch),y_batch)\n",
    "    # Just to make sure we arent going to throw and error if there isnt an actual optimiser to use.\n",
    "    if opt is not None:\n",
    "            loss.backward()\n",
    "            opt.step()\n",
    "            opt.zero_grad()\n",
    "    return loss.item(), len(x_batch)"
   ]
  },
  {
   "cell_type": "code",
   "execution_count": 74,
   "metadata": {},
   "outputs": [],
   "source": [
    "# Function to train the model using a loop over the epochs\n",
    "\n",
    "def train(model, epochs, loss_function, opt, train_dl, test_dl):\n",
    "    for epoch in range(epochs):\n",
    "        # Making sure the model is in train mode\n",
    "        model.train()\n",
    "        # for each of the minibatches\n",
    "        for x_batch, y_batch in train_dl:\n",
    "            loss(model, loss_function,x_batch,y_batch,opt)\n",
    "        # taking the model out of training mode and into testing mode so we can see wha the effect of the updated training is\n",
    "        model.eval()\n",
    "        with torch.no_grad():\n",
    "            losses, nums = zip(*[loss(model, loss_function, xb, yb) for xb, yb in test_dl])\n",
    "        test_loss = np.sum(np.multiply(losses, nums)) / np.sum(nums)\n",
    "        # printing out the current loss, it also helps to know which epoch we are up to\n",
    "        print(epoch, test_loss)\n",
    "        "
   ]
  },
  {
   "cell_type": "code",
   "execution_count": 75,
   "metadata": {},
   "outputs": [],
   "source": [
    "# Setting up the model parameters, first the number of input variables \n",
    "\n",
    "n_input = X_train1.shape[1]\n",
    "\n",
    "# Setting the output so it predicts a single variable\n",
    "n_output = 1\n",
    "\n",
    "# settign the number of hidden layers\n",
    "n_hidden = 30\n",
    "\n",
    "model = Classifier(n_input=n_input,n_hidden=n_hidden,n_output=n_output,drop_prob=0.2)\n",
    "\n",
    "lr = 0.001\n",
    "    \n",
    "pos_weight = torch.tensor([5])\n",
    "opt = torch.optim.SGD(model.parameters(), lr=lr, momentum=0.9)\n",
    "loss_func = torch.nn.BCEWithLogitsLoss(pos_weight=pos_weight)\n",
    "\n",
    "n_epoch = 1000\n",
    "\n"
   ]
  },
  {
   "cell_type": "code",
   "execution_count": 76,
   "metadata": {},
   "outputs": [
    {
     "name": "stdout",
     "output_type": "stream",
     "text": [
      "0 0.8718674589635349\n",
      "1 0.8580363461415327\n",
      "2 0.854474883070706\n",
      "3 0.8526068637625852\n",
      "4 0.8507706900861923\n",
      "5 0.8483891205983907\n",
      "6 0.8450861210798498\n",
      "7 0.8403057003400383\n",
      "8 0.8332551187614551\n",
      "9 0.8223529614382591\n",
      "10 0.8051935941235759\n",
      "11 0.7780985797936543\n",
      "12 0.7361068340303326\n",
      "13 0.6756243461154965\n",
      "14 0.6027889512250165\n",
      "15 0.5322074262256615\n",
      "16 0.4724649906951308\n",
      "17 0.42670989086039335\n",
      "18 0.3925360537513635\n",
      "19 0.3684946117254712\n",
      "20 0.35142498670437694\n",
      "21 0.3406493921050276\n",
      "22 0.3338741814070191\n",
      "23 0.3281661699090879\n",
      "24 0.3247031816638827\n",
      "25 0.32190376347873595\n",
      "26 0.3204172226842203\n",
      "27 0.3187998463501005\n",
      "28 0.31696045745365165\n",
      "29 0.31620980974983715\n",
      "30 0.3151442415894178\n",
      "31 0.3143093991817317\n",
      "32 0.31415055295840055\n",
      "33 0.31300304062623896\n",
      "34 0.3122066790094112\n",
      "35 0.31189449999686175\n",
      "36 0.31049140857244517\n",
      "37 0.3102556946707194\n",
      "38 0.309512077241908\n",
      "39 0.3095647434285267\n",
      "40 0.308812750448744\n",
      "41 0.3084505494310837\n",
      "42 0.3079218707895639\n",
      "43 0.30776051976725227\n",
      "44 0.30767592893705764\n",
      "45 0.3077030879125277\n",
      "46 0.3073101936295407\n",
      "47 0.30691173839445096\n",
      "48 0.30741031402563185\n",
      "49 0.3073277432316332\n",
      "50 0.3071035160662836\n",
      "51 0.30698929915530937\n",
      "52 0.3073107177641187\n",
      "53 0.3070729144926148\n",
      "54 0.306807329206161\n",
      "55 0.30654734848511006\n",
      "56 0.3063854325525271\n",
      "57 0.3066567793252284\n",
      "58 0.30670727940149867\n",
      "59 0.3068189349998121\n",
      "60 0.3062831266031162\n",
      "61 0.3065880056607185\n",
      "62 0.3065958068198774\n",
      "63 0.30649316946363403\n",
      "64 0.3062850134446751\n",
      "65 0.30593314666583993\n",
      "66 0.3060737541420922\n",
      "67 0.3061388724892415\n",
      "68 0.30624863229203525\n",
      "69 0.3059179209086659\n",
      "70 0.3063131568520917\n",
      "71 0.30594227428393833\n",
      "72 0.30602407532942\n",
      "73 0.3060954782064661\n",
      "74 0.306260452488932\n",
      "75 0.3059816001063318\n",
      "76 0.3060820665473717\n",
      "77 0.30599931616744275\n",
      "78 0.30576438358821184\n",
      "79 0.30561492523801514\n",
      "80 0.3059647549252072\n",
      "81 0.30613115957309445\n",
      "82 0.3058651381417168\n",
      "83 0.3055372610833518\n",
      "84 0.3056667460622433\n",
      "85 0.30553809969748424\n",
      "86 0.3058407978844141\n",
      "87 0.3053233144896957\n",
      "88 0.30528129348935157\n",
      "89 0.3051706484546004\n",
      "90 0.3052257864500407\n",
      "91 0.30522592249420716\n",
      "92 0.3050841173034981\n",
      "93 0.30503357023383737\n",
      "94 0.30493136529070725\n",
      "95 0.30468101782721746\n",
      "96 0.30470422042777145\n",
      "97 0.30460183142173075\n",
      "98 0.30461591840440133\n",
      "99 0.3044112456073199\n",
      "100 0.3043256971921576\n",
      "101 0.3040624376195082\n",
      "102 0.30417774649341683\n",
      "103 0.3041832362400709\n",
      "104 0.3040181960160359\n",
      "105 0.3038245122891853\n",
      "106 0.3035920684222085\n",
      "107 0.3038679276751704\n",
      "108 0.30407781193672123\n",
      "109 0.3034373373843887\n",
      "110 0.3033154047882163\n",
      "111 0.3035957091789505\n",
      "112 0.30339019977969517\n",
      "113 0.3032004555124053\n",
      "114 0.30333009159087465\n",
      "115 0.30330628693780404\n",
      "116 0.3031156620764939\n",
      "117 0.3030708841623685\n",
      "118 0.3030308367592362\n",
      "119 0.3027580238470001\n",
      "120 0.30266209192238325\n",
      "121 0.3027351602063201\n",
      "122 0.30289027362058907\n",
      "123 0.30265215564001835\n",
      "124 0.3024995774306398\n",
      "125 0.30255556654714316\n",
      "126 0.3025958615791537\n",
      "127 0.30255484478458283\n",
      "128 0.30252121620287437\n",
      "129 0.30229031203859846\n",
      "130 0.30276668709314136\n",
      "131 0.3023961452285594\n",
      "132 0.30226674554478783\n",
      "133 0.30227164690534003\n",
      "134 0.3021002951047239\n",
      "135 0.30213138833846925\n",
      "136 0.3021797482273594\n",
      "137 0.3021031622291237\n",
      "138 0.302074907862938\n",
      "139 0.30208561195935907\n",
      "140 0.30211735911540294\n",
      "141 0.3019890596421056\n",
      "142 0.30185778528688884\n",
      "143 0.3018851007122561\n",
      "144 0.3019612995500522\n",
      "145 0.30183663953094\n",
      "146 0.30183557855812865\n",
      "147 0.3018925011608072\n",
      "148 0.3014959339833936\n",
      "149 0.30150683548424595\n",
      "150 0.301615927748998\n",
      "151 0.301737174064617\n",
      "152 0.30143748718350805\n",
      "153 0.3014732490731888\n",
      "154 0.3015891875142651\n",
      "155 0.30121177350269973\n",
      "156 0.301282930736\n",
      "157 0.30133860478277424\n",
      "158 0.30128189785311077\n",
      "159 0.3010209596842034\n",
      "160 0.3011507021669639\n",
      "161 0.3008659372223838\n",
      "162 0.3010089000195284\n",
      "163 0.3008412834363633\n",
      "164 0.3009442524587583\n",
      "165 0.3011636903430603\n",
      "166 0.3008341056356169\n",
      "167 0.30093809700419966\n",
      "168 0.30115424740485575\n",
      "169 0.30087553292636593\n",
      "170 0.3006959550349827\n",
      "171 0.30069712308869934\n",
      "172 0.3008363909612162\n",
      "173 0.3006261995645048\n",
      "174 0.30062323958300147\n",
      "175 0.30072817028287163\n",
      "176 0.30074518965787755\n",
      "177 0.30051632835285935\n",
      "178 0.3004255373370512\n",
      "179 0.30033931656706936\n",
      "180 0.30045353572547584\n",
      "181 0.30049318199474384\n",
      "182 0.3005381660228456\n",
      "183 0.3004960243228722\n",
      "184 0.30004910142050806\n",
      "185 0.30010076521360657\n",
      "186 0.30032718976855355\n",
      "187 0.300039108892724\n",
      "188 0.29992173349296364\n",
      "189 0.30029592753028955\n",
      "190 0.30030881825903627\n",
      "191 0.2999357528887302\n",
      "192 0.30001648377494683\n",
      "193 0.2998983601740004\n",
      "194 0.2999191505554742\n",
      "195 0.2995907383817085\n",
      "196 0.2998150282903582\n",
      "197 0.29964637492259466\n",
      "198 0.29948173409766865\n",
      "199 0.2995757762864869\n",
      "200 0.2997837659745966\n",
      "201 0.299492349056874\n",
      "202 0.29950186952254815\n",
      "203 0.29958997506251683\n",
      "204 0.29947136009658115\n",
      "205 0.2995513004678878\n",
      "206 0.2992313951857479\n",
      "207 0.29941588664356517\n",
      "208 0.2994044802364972\n",
      "209 0.29981568736028996\n",
      "210 0.298904904238658\n",
      "211 0.29945097707561086\n",
      "212 0.2995473569396997\n",
      "213 0.2993267781258631\n",
      "214 0.2989190814226468\n",
      "215 0.29955213033670713\n",
      "216 0.29925252238398714\n",
      "217 0.29908684090852156\n",
      "218 0.2993001320925201\n",
      "219 0.2988663433211776\n",
      "220 0.2989457461418686\n",
      "221 0.29872683285713053\n",
      "222 0.29878163677504965\n",
      "223 0.29921553290748126\n",
      "224 0.2986156877150576\n",
      "225 0.29893371191431106\n",
      "226 0.29884975339350905\n",
      "227 0.2985342993923215\n",
      "228 0.29877498147248827\n",
      "229 0.29878749997399895\n",
      "230 0.2988802339188092\n",
      "231 0.2986672193418534\n",
      "232 0.2985923767429641\n",
      "233 0.298537729537242\n",
      "234 0.298502197741103\n",
      "235 0.29866870885289487\n",
      "236 0.2981826382267086\n",
      "237 0.2985412483126627\n",
      "238 0.298450208815502\n",
      "239 0.29827092041961906\n",
      "240 0.29810956136139594\n",
      "241 0.29824153163072176\n",
      "242 0.2981358263089239\n",
      "243 0.2982010177691567\n",
      "244 0.2980691465776122\n",
      "245 0.297903931173091\n",
      "246 0.297843881354914\n",
      "247 0.2978141703843868\n",
      "248 0.29783161289365123\n",
      "249 0.2976152581465616\n",
      "250 0.2976456067708395\n",
      "251 0.29772466256295754\n",
      "252 0.29777201231452244\n",
      "253 0.2978630089823017\n",
      "254 0.2974539847232559\n",
      "255 0.2974606102607534\n",
      "256 0.2974323473906895\n",
      "257 0.2976715831409164\n",
      "258 0.297321060386164\n",
      "259 0.29735489661391806\n",
      "260 0.29697789322670004\n",
      "261 0.29734900071691645\n",
      "262 0.29718827523189395\n",
      "263 0.29690741180282665\n",
      "264 0.2970008176493932\n",
      "265 0.2969813756139873\n",
      "266 0.2966425756564729\n",
      "267 0.2967960873520266\n",
      "268 0.29638091433600866\n",
      "269 0.29619708534013617\n",
      "270 0.29637365717467484\n",
      "271 0.29626654158319576\n",
      "272 0.296374002703966\n",
      "273 0.2963107377760183\n",
      "274 0.29621298574725285\n",
      "275 0.2960911649295364\n",
      "276 0.2956473887005454\n",
      "277 0.2957447551188245\n",
      "278 0.295796289165932\n",
      "279 0.2956382119042185\n",
      "280 0.29557729987685144\n",
      "281 0.29573160691899636\n",
      "282 0.2955370817046383\n",
      "283 0.2955073977032977\n",
      "284 0.29527385822503505\n",
      "285 0.2954649251210914\n",
      "286 0.2951929016179333\n",
      "287 0.2950959807963123\n",
      "288 0.2949810879268771\n",
      "289 0.29495973775891976\n",
      "290 0.2948296794672218\n",
      "291 0.29474785503234935\n",
      "292 0.2944428632454544\n",
      "293 0.2945082463365427\n",
      "294 0.2945054164438085\n",
      "295 0.2944435263154578\n",
      "296 0.2939523108906762\n",
      "297 0.2940185117788325\n",
      "298 0.2937514379470773\n",
      "299 0.29379837444235507\n",
      "300 0.2939516240706198\n",
      "301 0.2939795148624816\n",
      "302 0.293421241234629\n",
      "303 0.2934385810654515\n",
      "304 0.2935444923253657\n",
      "305 0.29317593245754997\n",
      "306 0.29325487509711884\n",
      "307 0.29307496051415866\n",
      "308 0.29321639502162355\n",
      "309 0.29288276740120084\n",
      "310 0.2926383575940303\n",
      "311 0.2925335399453662\n",
      "312 0.29248655480838226\n",
      "313 0.2924069132054693\n",
      "314 0.29219383888675754\n",
      "315 0.29220703706065554\n",
      "316 0.29211676990520286\n",
      "317 0.2918867139260209\n",
      "318 0.2919015213686949\n",
      "319 0.29176446528543726\n",
      "320 0.2915523473683635\n",
      "321 0.2916900659761602\n",
      "322 0.2912600217368917\n",
      "323 0.29105230492997564\n",
      "324 0.29124794636701723\n",
      "325 0.29106415589940593\n",
      "326 0.2906176793329083\n",
      "327 0.2907345888316229\n",
      "328 0.29062970113997494\n",
      "329 0.2903326712692178\n",
      "330 0.2901098437593503\n",
      "331 0.29047086409415557\n",
      "332 0.289950628107641\n",
      "333 0.2897143606132833\n",
      "334 0.2900901196861038\n",
      "335 0.2897235840423385\n",
      "336 0.28939298494712123\n",
      "337 0.28928225362468385\n",
      "338 0.289293018959162\n",
      "339 0.28911319421685777\n",
      "340 0.28896547624657926\n",
      "341 0.2888619175295642\n",
      "342 0.2888728144610352\n",
      "343 0.2883892838833433\n",
      "344 0.28818664193338184\n",
      "345 0.2880877378511865\n",
      "346 0.28807996327670665\n",
      "347 0.28787049419994254\n",
      "348 0.288058331142445\n",
      "349 0.2876012241172094\n",
      "350 0.2874831483651085\n",
      "351 0.2871240194591277\n",
      "352 0.28701660832434994\n",
      "353 0.2867573000385969\n",
      "354 0.2869849570835865\n",
      "355 0.28640050973785863\n",
      "356 0.28641326619296237\n",
      "357 0.2867607609560509\n",
      "358 0.2861510033296777\n",
      "359 0.2859192764621356\n",
      "360 0.2858559572828432\n",
      "361 0.2855854211476181\n",
      "362 0.2855079986396096\n",
      "363 0.2852136168699536\n",
      "364 0.28510511497941654\n",
      "365 0.28481080771482137\n",
      "366 0.2847736908500419\n",
      "367 0.2842929490794001\n",
      "368 0.2843467483414634\n",
      "369 0.28415179585864464\n",
      "370 0.28421951894695274\n",
      "371 0.28422663220108796\n",
      "372 0.28375159023451546\n",
      "373 0.2835835396435736\n",
      "374 0.28360172454468\n",
      "375 0.2830851424835489\n",
      "376 0.28277284646145123\n",
      "377 0.28279847275073955\n",
      "378 0.2834822086892784\n",
      "379 0.2829031243308542\n",
      "380 0.2821284653115476\n",
      "381 0.282225246428728\n",
      "382 0.28223868187066287\n",
      "383 0.28192487413444334\n",
      "384 0.28181648112812263\n",
      "385 0.2814121813799623\n",
      "386 0.28151266240248557\n",
      "387 0.2816083127929967\n",
      "388 0.2808659679592684\n",
      "389 0.2809264112360604\n",
      "390 0.28083451502012086\n",
      "391 0.2807606601110606\n",
      "392 0.28036966772802463\n",
      "393 0.28031694591894873\n",
      "394 0.27956286292258054\n",
      "395 0.27988269244181296\n",
      "396 0.2796080487873838\n",
      "397 0.2798181126646717\n",
      "398 0.27949639120095726\n",
      "399 0.2793261634920182\n",
      "400 0.279037761370492\n",
      "401 0.2788080666734915\n",
      "402 0.27859781290308416\n",
      "403 0.27870989647926003\n",
      "404 0.27830509079953053\n",
      "405 0.2784466000147424\n",
      "406 0.27796893749748786\n",
      "407 0.27821056926084137\n",
      "408 0.27805494188803365\n",
      "409 0.2776183579369486\n",
      "410 0.2773938316425431\n",
      "411 0.2778921939912138\n",
      "412 0.27713302053403466\n",
      "413 0.27663653097898117\n",
      "414 0.2764049796734523\n",
      "415 0.277228504003522\n",
      "416 0.2762247691448017\n",
      "417 0.27620708757313145\n",
      "418 0.2759340191570623\n",
      "419 0.27568073296431284\n",
      "420 0.2757109388408765\n",
      "421 0.2749437166135442\n",
      "422 0.27529324959199203\n",
      "423 0.27468318544149745\n",
      "424 0.27420417053637375\n",
      "425 0.27401065005238856\n",
      "426 0.27407342404456486\n",
      "427 0.2737036041869589\n",
      "428 0.2737527044289063\n",
      "429 0.2735767716371149\n",
      "430 0.2738354329187262\n",
      "431 0.27293703925903484\n",
      "432 0.27257749481356647\n",
      "433 0.2721718345730699\n",
      "434 0.27218240514399855\n",
      "435 0.2716626669190112\n",
      "436 0.2716613856412091\n",
      "437 0.27194035332542826\n",
      "438 0.2713560588945119\n",
      "439 0.2714375122765359\n",
      "440 0.27128654796790913\n",
      "441 0.27128717822063303\n",
      "442 0.27100233186475814\n",
      "443 0.2706867387284397\n",
      "444 0.27039183717301685\n",
      "445 0.2705347515043154\n",
      "446 0.27056061561306627\n",
      "447 0.2701789556386835\n",
      "448 0.26976651899062404\n",
      "449 0.2696727299628248\n",
      "450 0.2697897248401185\n",
      "451 0.26996606264065737\n",
      "452 0.26972612338155044\n",
      "453 0.26898854075237866\n",
      "454 0.26844556337476655\n",
      "455 0.2690876268825454\n",
      "456 0.26878859745882067\n",
      "457 0.26890412758259546\n",
      "458 0.2688740147807249\n",
      "459 0.26817493732138775\n",
      "460 0.2684553960576596\n",
      "461 0.26824456873003016\n",
      "462 0.26740979476768373\n",
      "463 0.2676396666094381\n",
      "464 0.2672308348635289\n",
      "465 0.2676467468436077\n",
      "466 0.26688306874535456\n",
      "467 0.2669827289245555\n",
      "468 0.26659132977417127\n",
      "469 0.26614037458196893\n",
      "470 0.26618880334541656\n",
      "471 0.26624959164180356\n",
      "472 0.26610422700728487\n",
      "473 0.2661162806062774\n",
      "474 0.2659849076501881\n",
      "475 0.26680603936212494\n",
      "476 0.2659899406584047\n",
      "477 0.26556710521596705\n",
      "478 0.2648949554552285\n",
      "479 0.2654518590048801\n",
      "480 0.2647552764874169\n",
      "481 0.26535949569860384\n",
      "482 0.26453432032255647\n",
      "483 0.2644645784797445\n",
      "484 0.2643638698555275\n",
      "485 0.26451989440385737\n",
      "486 0.26412515255274244\n",
      "487 0.26438191453355514\n",
      "488 0.2641415167356805\n",
      "489 0.26460885482352575\n",
      "490 0.2638802218569537\n",
      "491 0.2633483633372929\n",
      "492 0.26419101751237567\n",
      "493 0.2636377277711442\n",
      "494 0.2635299832056527\n",
      "495 0.2637266957319313\n",
      "496 0.26403613831094724\n",
      "497 0.26304296779353575\n",
      "498 0.26280227291433195\n",
      "499 0.2635008313569175\n",
      "500 0.2630853078905067\n",
      "501 0.26274072737039705\n",
      "502 0.2629483017753576\n",
      "503 0.2626773586194265\n",
      "504 0.2623000267315383\n",
      "505 0.2620904075179558\n",
      "506 0.26254060299758847\n",
      "507 0.262555134378684\n",
      "508 0.2623350910587943\n",
      "509 0.26346955276664663\n",
      "510 0.262010148824999\n",
      "511 0.26244781425596925\n",
      "512 0.26161366202160374\n",
      "513 0.2615998676462627\n",
      "514 0.26128786091399847\n",
      "515 0.2614008940958635\n",
      "516 0.2614451668384928\n",
      "517 0.2614010920874887\n",
      "518 0.26110770335798117\n",
      "519 0.26124367766328566\n",
      "520 0.2608665130749675\n",
      "521 0.2613952307753094\n",
      "522 0.2609749564130395\n",
      "523 0.26109368868063\n",
      "524 0.2602837018569171\n",
      "525 0.2607420950572109\n",
      "526 0.2610223397240732\n",
      "527 0.26091134517784326\n",
      "528 0.26079110234667313\n",
      "529 0.2605114233233294\n",
      "530 0.26062603146933183\n",
      "531 0.2592922644733924\n",
      "532 0.2598836395945222\n",
      "533 0.2603492951991648\n",
      "534 0.25968634559731785\n",
      "535 0.2600224095207098\n",
      "536 0.25968832781465434\n",
      "537 0.25950480622816496\n",
      "538 0.2603606842318529\n",
      "539 0.2590560094978879\n",
      "540 0.2591138974084743\n",
      "541 0.2594750818177546\n",
      "542 0.25900531695319123\n",
      "543 0.2598514228026414\n",
      "544 0.259125079546248\n",
      "545 0.2587846530558628\n",
      "546 0.25806070265605663\n",
      "547 0.25865563298545075\n",
      "548 0.2591538303892881\n",
      "549 0.25831264167414514\n",
      "550 0.25827979958641023\n",
      "551 0.2585545019035895\n",
      "552 0.25834795589261506\n",
      "553 0.2584091989095195\n",
      "554 0.25782605670789316\n",
      "555 0.25813241272787696\n",
      "556 0.2583492273699434\n",
      "557 0.2571940271235731\n",
      "558 0.2576026545528555\n",
      "559 0.25716848843943124\n",
      "560 0.25712097697707004\n",
      "561 0.2568700619475236\n",
      "562 0.25710398910188337\n",
      "563 0.2574756174866793\n",
      "564 0.25665117278244276\n",
      "565 0.25744576905914357\n",
      "566 0.2563925711323024\n",
      "567 0.2568190740145236\n",
      "568 0.25699820231811915\n",
      "569 0.25669216070019224\n",
      "570 0.2566274811656748\n",
      "571 0.25628466539849826\n",
      "572 0.2562286956951595\n",
      "573 0.2565374275609935\n",
      "574 0.25644828168345657\n",
      "575 0.2561787629643756\n",
      "576 0.25577058357888893\n",
      "577 0.255865558765051\n",
      "578 0.2556935440136587\n",
      "579 0.25609825848758105\n",
      "580 0.2553378887138838\n",
      "581 0.2560526815576482\n",
      "582 0.255704891716247\n",
      "583 0.2553173780512821\n",
      "584 0.255078141624441\n",
      "585 0.25488258906231526\n",
      "586 0.2543808352937101\n",
      "587 0.25443019516475085\n",
      "588 0.2548036580980674\n",
      "589 0.2545919987942783\n",
      "590 0.2554188452822367\n",
      "591 0.2545158645627069\n",
      "592 0.25470283155519496\n",
      "593 0.25421238722619743\n",
      "594 0.25483413429542107\n",
      "595 0.25405204905362916\n",
      "596 0.2538808588207367\n",
      "597 0.25388245986879915\n",
      "598 0.25385798225285033\n",
      "599 0.2537089758749848\n",
      "600 0.2533073627770516\n",
      "601 0.2537469273776706\n",
      "602 0.25337104486895723\n",
      "603 0.25359950680467325\n",
      "604 0.252788913985005\n",
      "605 0.25286904720924563\n",
      "606 0.2524894210060292\n",
      "607 0.25306890734483073\n",
      "608 0.25260651039172277\n",
      "609 0.2526535771993206\n",
      "610 0.2524528701513918\n",
      "611 0.2526797677222661\n",
      "612 0.2523086508071416\n",
      "613 0.2518547832527691\n",
      "614 0.2523324773056111\n",
      "615 0.2517152737216746\n",
      "616 0.25198560891440197\n",
      "617 0.2521721388677624\n",
      "618 0.25200382858215226\n",
      "619 0.25170754790812805\n",
      "620 0.2513920836027321\n",
      "621 0.25207178228264027\n",
      "622 0.25192215853752764\n",
      "623 0.2507823080416112\n",
      "624 0.2506823261666311\n",
      "625 0.25062216857901193\n",
      "626 0.2505772996647463\n",
      "627 0.2510935694550063\n",
      "628 0.24973824993875043\n",
      "629 0.25062435855864046\n",
      "630 0.2497463671602046\n",
      "631 0.24966515617000523\n",
      "632 0.2497464961431417\n",
      "633 0.25046914220959116\n",
      "634 0.24997211475816317\n",
      "635 0.2498159322278669\n",
      "636 0.24947133019023307\n",
      "637 0.249175013569216\n",
      "638 0.24868155735912648\n",
      "639 0.24968191117365707\n",
      "640 0.24903516601120024\n",
      "641 0.24880872481810115\n",
      "642 0.24939572322891432\n",
      "643 0.24849963560458235\n",
      "644 0.2476686422256265\n",
      "645 0.2479851135058469\n",
      "646 0.24912480485733196\n",
      "647 0.24813871180801955\n",
      "648 0.24765721055133977\n",
      "649 0.24814934818936735\n",
      "650 0.24727978125187006\n",
      "651 0.24675809257464593\n",
      "652 0.2465964274453647\n",
      "653 0.2468458478698887\n",
      "654 0.2463178277081261\n",
      "655 0.2468256691089122\n",
      "656 0.24653339745754324\n",
      "657 0.24611400870577707\n",
      "658 0.24646813077092522\n",
      "659 0.24700265701648003\n",
      "660 0.24563079994011086\n",
      "661 0.2463226903079241\n",
      "662 0.2456938793326924\n",
      "663 0.24564845224449072\n",
      "664 0.24537449160379046\n",
      "665 0.2450028421277075\n",
      "666 0.2448920197157095\n",
      "667 0.24497586553404496\n",
      "668 0.2454055642410416\n",
      "669 0.24451256914902325\n",
      "670 0.24394382745878526\n",
      "671 0.24427846580968832\n",
      "672 0.24396513441583423\n",
      "673 0.24355083603843924\n",
      "674 0.24379716164446857\n",
      "675 0.24355632108158126\n",
      "676 0.24301629523524657\n",
      "677 0.2432888604560101\n",
      "678 0.2432551773964253\n",
      "679 0.24320853115672106\n",
      "680 0.24283381819504465\n",
      "681 0.2423318511081611\n",
      "682 0.24291316823386583\n",
      "683 0.24260979457432588\n",
      "684 0.24258544896372308\n",
      "685 0.24239160535919396\n",
      "686 0.2424716195291404\n",
      "687 0.24223573654241762\n",
      "688 0.24216425719902374\n",
      "689 0.24148574079663396\n",
      "690 0.24113768143922606\n",
      "691 0.24135179591368466\n",
      "692 0.24109177760626727\n",
      "693 0.2412826864100721\n",
      "694 0.2410057783007604\n",
      "695 0.24048337540507536\n",
      "696 0.24109028450648784\n",
      "697 0.2402723023740865\n",
      "698 0.24050866961687833\n",
      "699 0.24055437156246406\n",
      "700 0.24063993356952418\n",
      "701 0.24015277336196625\n",
      "702 0.23981068781055664\n",
      "703 0.23969146274725078\n",
      "704 0.23917919723142378\n",
      "705 0.23959799614549726\n",
      "706 0.24035847213570283\n",
      "707 0.23999796591741226\n",
      "708 0.23902975742403326\n",
      "709 0.23887351328011436\n",
      "710 0.2392124386109632\n",
      "711 0.2389627164880377\n",
      "712 0.23913078484084777\n",
      "713 0.23851648255479976\n",
      "714 0.23867024191798059\n",
      "715 0.23810093092693058\n",
      "716 0.23877014104632155\n",
      "717 0.23849107927099766\n",
      "718 0.23872953045575054\n",
      "719 0.23857049234224487\n",
      "720 0.23773822992415633\n",
      "721 0.23791559451209512\n",
      "722 0.23813493621285547\n",
      "723 0.2383068057276663\n",
      "724 0.23853100584335088\n",
      "725 0.23811907051873038\n",
      "726 0.23704297929344972\n",
      "727 0.23748489969485032\n",
      "728 0.2376982005004818\n",
      "729 0.23801055182014255\n",
      "730 0.23726052220489952\n",
      "731 0.23741358700123835\n",
      "732 0.23688687107148942\n",
      "733 0.23723986242189105\n",
      "734 0.236576891078969\n",
      "735 0.23698871258336818\n",
      "736 0.2368686189441411\n",
      "737 0.2366907808931731\n",
      "738 0.23715676436062044\n",
      "739 0.2364466083808655\n",
      "740 0.23663330332675014\n",
      "741 0.2367014300407705\n",
      "742 0.23726498888106073\n",
      "743 0.23666304418454917\n",
      "744 0.23618807540259648\n",
      "745 0.23626836207519025\n",
      "746 0.23640936325745399\n",
      "747 0.23591232588632516\n",
      "748 0.23596357665562942\n",
      "749 0.2366109810608974\n",
      "750 0.23607881582337104\n",
      "751 0.23607079764393\n",
      "752 0.23618859970111183\n",
      "753 0.2360911000494469\n",
      "754 0.23557265830372623\n",
      "755 0.23599518505210798\n",
      "756 0.2361174785459543\n",
      "757 0.2362981663260775\n",
      "758 0.23578208312336346\n",
      "759 0.23539176882103205\n",
      "760 0.23624188396437928\n",
      "761 0.23580967088446006\n",
      "762 0.2352325112252031\n",
      "763 0.23502208999426907\n",
      "764 0.23651288094541792\n",
      "765 0.2353605781071495\n",
      "766 0.23549186300204838\n",
      "767 0.23540419531791348\n",
      "768 0.23492961113897748\n",
      "769 0.23472010702432772\n",
      "770 0.2355279710320596\n",
      "771 0.2348461666452698\n",
      "772 0.2357097712523843\n",
      "773 0.23588846943500894\n",
      "774 0.23539603404499934\n",
      "775 0.23483725599380126\n",
      "776 0.23533751219756938\n",
      "777 0.23469883833324015\n",
      "778 0.2350704198259887\n",
      "779 0.2342959002130549\n",
      "780 0.23380524971642874\n",
      "781 0.23484223188922101\n",
      "782 0.23444207746422088\n",
      "783 0.23412374552770954\n",
      "784 0.23422273067246022\n",
      "785 0.23437180200827065\n",
      "786 0.23479792081803605\n",
      "787 0.23555058593802936\n",
      "788 0.23452146089261203\n",
      "789 0.23440367238559848\n",
      "790 0.23472681312362642\n",
      "791 0.2349334579828698\n",
      "792 0.233968658870999\n",
      "793 0.23425437528419274\n",
      "794 0.2342728760717344\n",
      "795 0.2335262832453461\n",
      "796 0.23378648908220423\n",
      "797 0.23437181748395777\n",
      "798 0.23408718004687856\n",
      "799 0.23392871044430488\n",
      "800 0.2334318208791032\n",
      "801 0.23405360767184039\n",
      "802 0.23384971215247202\n",
      "803 0.23388970482735097\n",
      "804 0.23430310127502288\n",
      "805 0.2339401134235916\n",
      "806 0.2340136374265735\n",
      "807 0.23331609223314229\n",
      "808 0.23373869064003608\n",
      "809 0.23377169883506932\n",
      "810 0.2332613603642042\n",
      "811 0.23379379603280576\n",
      "812 0.23397828241750682\n",
      "813 0.23366837997034012\n",
      "814 0.23256813882797808\n",
      "815 0.23451233851454786\n",
      "816 0.23251177647378843\n",
      "817 0.23282729922136425\n",
      "818 0.2334098488371116\n",
      "819 0.23335733186628138\n",
      "820 0.23418530550409378\n",
      "821 0.2337749878776105\n",
      "822 0.23392791611114466\n",
      "823 0.2335232992812968\n",
      "824 0.23330545133904598\n",
      "825 0.23389323545693338\n",
      "826 0.23381218728932368\n",
      "827 0.23384209146152443\n",
      "828 0.2335959102217183\n",
      "829 0.23354731200068882\n",
      "830 0.23269426651869426\n",
      "831 0.2325051913006506\n",
      "832 0.23300657510435532\n",
      "833 0.23283866938039077\n",
      "834 0.23232541672019902\n",
      "835 0.23348334276205826\n",
      "836 0.2332516291853654\n",
      "837 0.23321165082668932\n",
      "838 0.2322074798379486\n",
      "839 0.23318204281478785\n",
      "840 0.23292773384961354\n",
      "841 0.2334421038949538\n",
      "842 0.23272053103998505\n",
      "843 0.23347169800198614\n",
      "844 0.23294557514992834\n",
      "845 0.2320586011941155\n",
      "846 0.23304208052744357\n",
      "847 0.23234313514796937\n",
      "848 0.23242808514406318\n",
      "849 0.23245998393620718\n",
      "850 0.23222515626794704\n",
      "851 0.23296806515947238\n",
      "852 0.2322127298664473\n",
      "853 0.23226703716145877\n",
      "854 0.23231081766874043\n",
      "855 0.23272331599003615\n",
      "856 0.23300352480826797\n",
      "857 0.2322173465095282\n",
      "858 0.23287351589748465\n",
      "859 0.2323450445890391\n",
      "860 0.23234547896045873\n",
      "861 0.23340413684802525\n",
      "862 0.23244783098223018\n",
      "863 0.23259836043060592\n",
      "864 0.23288760368493866\n",
      "865 0.23195728850840402\n",
      "866 0.2316438630800781\n",
      "867 0.23252183569427276\n",
      "868 0.231369122780102\n",
      "869 0.23192778977416853\n",
      "870 0.23283713956162258\n",
      "871 0.23212365306317345\n",
      "872 0.23182858602639503\n",
      "873 0.23179130022267183\n",
      "874 0.23196445042809086\n",
      "875 0.2321755525356067\n",
      "876 0.23229559631701047\n",
      "877 0.23152276586698176\n",
      "878 0.2326994753303591\n",
      "879 0.23230252315945976\n",
      "880 0.23231098171340864\n",
      "881 0.231669400694156\n",
      "882 0.23161058873422516\n",
      "883 0.23189509191554553\n",
      "884 0.2324932219416176\n",
      "885 0.2311424162499087\n",
      "886 0.23146137798608063\n",
      "887 0.23119099704588678\n",
      "888 0.23223138776857769\n",
      "889 0.23130422783188864\n",
      "890 0.2317232868817709\n",
      "891 0.23166619406441794\n",
      "892 0.23115873667051262\n",
      "893 0.23093979957312735\n",
      "894 0.2313775032342908\n",
      "895 0.23156816633771693\n",
      "896 0.23147795591949552\n",
      "897 0.23236585199913395\n",
      "898 0.23156978798823494\n",
      "899 0.23161559717866334\n",
      "900 0.23130651506214206\n",
      "901 0.2318945348504222\n",
      "902 0.2307905969622374\n",
      "903 0.23202008379455352\n",
      "904 0.23188670888604979\n",
      "905 0.23199849955682822\n",
      "906 0.23165419209973362\n",
      "907 0.2321059086498406\n",
      "908 0.2321623143967601\n",
      "909 0.23135791335420894\n",
      "910 0.23131131481133552\n",
      "911 0.2320488808887949\n",
      "912 0.23202702969248584\n",
      "913 0.23144670988122373\n",
      "914 0.23188630396672272\n",
      "915 0.2323607974823352\n",
      "916 0.23150586866704131\n",
      "917 0.2313050828278348\n",
      "918 0.23126239922843456\n",
      "919 0.23133258155007813\n",
      "920 0.231092091211052\n",
      "921 0.2310396801646235\n",
      "922 0.23174881187267182\n",
      "923 0.23184621960316656\n",
      "924 0.23089683224584137\n",
      "925 0.23117754652171443\n",
      "926 0.2314231982736425\n",
      "927 0.23121422578997927\n",
      "928 0.23095903763766526\n",
      "929 0.23182166547615982\n",
      "930 0.230914954001256\n",
      "931 0.23113709375215316\n",
      "932 0.2310647725844351\n",
      "933 0.23125965681267768\n",
      "934 0.23092807760451825\n",
      "935 0.2312326450171921\n",
      "936 0.23161781548964905\n",
      "937 0.23057617412159764\n",
      "938 0.23031281976334517\n",
      "939 0.23140398244795313\n",
      "940 0.23193377538961835\n",
      "941 0.2316229123350751\n",
      "942 0.23073465686002517\n",
      "943 0.2303930410577183\n",
      "944 0.23127984188673298\n",
      "945 0.23072448143477606\n",
      "946 0.23093189077567605\n",
      "947 0.23113741779372698\n",
      "948 0.23124545724378703\n",
      "949 0.23138353773586248\n",
      "950 0.23126411529495136\n",
      "951 0.23075025090099652\n",
      "952 0.23038661820939668\n",
      "953 0.23113957242547925\n",
      "954 0.23149587026135757\n",
      "955 0.23122009265516413\n",
      "956 0.23110670230147445\n",
      "957 0.2305688304967175\n",
      "958 0.23154642852644994\n",
      "959 0.23018961845889546\n",
      "960 0.23046818100619795\n",
      "961 0.23068673417420008\n",
      "962 0.23125741499009334\n",
      "963 0.23033397138825165\n",
      "964 0.2308600611517881\n",
      "965 0.2303338553533856\n",
      "966 0.23135823169970457\n",
      "967 0.23104465237294292\n",
      "968 0.23087014260515962\n",
      "969 0.2305967673072876\n",
      "970 0.231234093865806\n",
      "971 0.23099515775135054\n",
      "972 0.23060346299805404\n",
      "973 0.23027880390793132\n",
      "974 0.23016563751056457\n",
      "975 0.23107717648478646\n",
      "976 0.23074954487642313\n",
      "977 0.23037689061929578\n",
      "978 0.23037051131273797\n",
      "979 0.22994367174788188\n",
      "980 0.22973180275032054\n",
      "981 0.2299992828874187\n",
      "982 0.2302435162950052\n",
      "983 0.23031933997257678\n",
      "984 0.23024836257260317\n",
      "985 0.2300932746491039\n",
      "986 0.2302988441448161\n",
      "987 0.23024175785515089\n",
      "988 0.22986818583791255\n",
      "989 0.2301771306047298\n",
      "990 0.22998451281352156\n",
      "991 0.2303895390515996\n",
      "992 0.23084685219081155\n",
      "993 0.22993034472517737\n",
      "994 0.23007314987419164\n",
      "995 0.23083145069874494\n",
      "996 0.23001906111960876\n",
      "997 0.2301730552947467\n",
      "998 0.2295811780066456\n",
      "999 0.23014695338143668\n"
     ]
    },
    {
     "data": {
      "text/plain": [
       "Classifier(\n",
       "  (extractor1): Linear(in_features=8, out_features=30, bias=True)\n",
       "  (extractor2): Linear(in_features=30, out_features=30, bias=True)\n",
       "  (extractor3): Linear(in_features=30, out_features=30, bias=True)\n",
       "  (relu): ReLU()\n",
       "  (dropout): Dropout(p=0.2, inplace=False)\n",
       "  (classifier): Linear(in_features=30, out_features=1, bias=True)\n",
       ")"
      ]
     },
     "execution_count": 76,
     "metadata": {},
     "output_type": "execute_result"
    }
   ],
   "source": [
    "train(model,n_epoch,loss_func,opt,train_dataloader,test_dataloader)\n",
    "model.eval()"
   ]
  },
  {
   "cell_type": "code",
   "execution_count": 77,
   "metadata": {},
   "outputs": [
    {
     "data": {
      "image/png": "[encoded data removed]",
      "text/plain": [
       "<Figure size 432x288 with 1 Axes>"
      ]
     },
     "metadata": {
      "needs_background": "light"
     },
     "output_type": "display_data"
    }
   ],
   "source": [
    "ypred = model(torch.tensor(X_test1).float()).detach().numpy()\n",
    "\n",
    "ypred [ypred>=0.5] =1.0\n",
    "ypred [ypred<0.5] =0.0\n",
    "\n",
    "matrix = confusion_matrix(y_test, y_pred)\n",
    "\n",
    "dataframe = pd.DataFrame(matrix, index=class_names, columns=class_names)\n",
    "\n",
    "sns.heatmap(dataframe, annot=True, cbar=None, cmap=\"Blues\", fmt = 'g')\n",
    "plt.title(\"Confusion Matrix\"), plt.tight_layout()\n",
    "plt.ylabel(\"True Class\"), plt.xlabel(\"Predicted Class\")\n",
    "plt.show()"
   ]
  },
  {
   "cell_type": "code",
   "execution_count": 78,
   "metadata": {},
   "outputs": [
    {
     "name": "stdout",
     "output_type": "stream",
     "text": [
      "              precision    recall  f1-score   support\n",
      "\n",
      "           0       0.98      0.99      0.98     18222\n",
      "           1       0.83      0.75      0.79      1775\n",
      "\n",
      "    accuracy                           0.96     19997\n",
      "   macro avg       0.91      0.87      0.89     19997\n",
      "weighted avg       0.96      0.96      0.96     19997\n",
      "\n"
     ]
    }
   ],
   "source": [
    "print(metrics.classification_report(y_test1, ypred))"
   ]
  },
  {
   "cell_type": "markdown",
   "metadata": {},
   "source": [
    "As we can see here the deep learning model as performed significantly better than the logistic regression model and beats out the decision tree. The training time remains reasonable, unlike the decision tree module. It does help that it can be trained with 4 parallel treads which the decision tree code I wrote cannot. "
   ]
  },
  {
   "cell_type": "markdown",
   "metadata": {},
   "source": [
    "## Random forests"
   ]
  },
  {
   "cell_type": "code",
   "execution_count": 79,
   "metadata": {},
   "outputs": [
    {
     "data": {
      "text/plain": [
       "RandomForestClassifier()"
      ]
     },
     "execution_count": 79,
     "metadata": {},
     "output_type": "execute_result"
    }
   ],
   "source": [
    "# calling the random forest\n",
    "\n",
    "rf = RandomForestClassifier()\n",
    "rf.fit(X_train, y_train)"
   ]
  },
  {
   "cell_type": "code",
   "execution_count": 80,
   "metadata": {},
   "outputs": [],
   "source": [
    "y_pred = rf.predict(X_test)"
   ]
  },
  {
   "cell_type": "code",
   "execution_count": 81,
   "metadata": {},
   "outputs": [
    {
     "data": {
      "image/png": "[encoded data removed]",
      "text/plain": [
       "<Figure size 432x288 with 1 Axes>"
      ]
     },
     "metadata": {
      "needs_background": "light"
     },
     "output_type": "display_data"
    }
   ],
   "source": [
    "matrix = confusion_matrix(y_test, y_pred)\n",
    "\n",
    "dataframe = pd.DataFrame(matrix, index=class_names, columns=class_names)\n",
    "\n",
    "sns.heatmap(dataframe, annot=True, cbar=None, cmap=\"Blues\", fmt = 'g')\n",
    "plt.title(\"Confusion Matrix\"), plt.tight_layout()\n",
    "plt.ylabel(\"True Class\"), plt.xlabel(\"Predicted Class\")\n",
    "plt.show()"
   ]
  },
  {
   "cell_type": "code",
   "execution_count": 82,
   "metadata": {},
   "outputs": [
    {
     "name": "stdout",
     "output_type": "stream",
     "text": [
      "              precision    recall  f1-score   support\n",
      "\n",
      "           0       0.98      0.99      0.98     18222\n",
      "           1       0.83      0.75      0.79      1775\n",
      "\n",
      "    accuracy                           0.96     19997\n",
      "   macro avg       0.91      0.87      0.89     19997\n",
      "weighted avg       0.96      0.96      0.96     19997\n",
      "\n"
     ]
    }
   ],
   "source": [
    "print(metrics.classification_report(y_test1, ypred))"
   ]
  }
 ],
 "metadata": {
  "kernelspec": {
   "display_name": "Python 3.9.12 ('base')",
   "language": "python",
   "name": "python3"
  },
  "language_info": {
   "codemirror_mode": {
    "name": "ipython",
    "version": 3
   },
   "file_extension": ".py",
   "mimetype": "text/x-python",
   "name": "python",
   "nbconvert_exporter": "python",
   "pygments_lexer": "ipython3",
   "version": "3.9.12"
  },
  "orig_nbformat": 4,
  "vscode": {
   "interpreter": {
    "hash": "ad2bdc8ecc057115af97d19610ffacc2b4e99fae6737bb82f5d7fb13d2f2c186"
   }
  }
 },
 "nbformat": 4,
 "nbformat_minor": 2
}
